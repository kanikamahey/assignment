{
 "cells": [
  {
   "cell_type": "code",
   "execution_count": 5,
   "id": "c2e2a6ec",
   "metadata": {},
   "outputs": [
    {
     "data": {
      "text/plain": [
       "\" 1)  python programming language was developed by Guido van Rossum and first relased in 1991 , \\nbeing open source it was available  for free and is avaliable on multiple platforms and multiple operating sysytems. work on \\non python began in latwe 1889 by guido van rossum , wgile he was working at research lab in netherlands . he intially took it as hobby project to keep \\nhim occupied during chritsmas holidays . he created an interpreter for a new scripting language and named the project as python \\nafter a popular tv show 'monty pythons flying circus '\\n\""
      ]
     },
     "execution_count": 5,
     "metadata": {},
     "output_type": "execute_result"
    }
   ],
   "source": [
    "\"\"\" 1)  python programming language was developed by Guido van Rossum and first relased in 1991 , \n",
    "being open source it was available  for free and is avaliable on multiple platforms and multiple operating sysytems. work on \n",
    "on python began in latwe 1889 by guido van rossum , wgile he was working at research lab in netherlands . he intially took it as hobby project to keep \n",
    "him occupied during chritsmas holidays . he created an interpreter for a new scripting language and named the project as python \n",
    "after a popular tv show 'monty pythons flying circus '\n",
    "\"\"\"\n",
    "\n"
   ]
  },
  {
   "cell_type": "code",
   "execution_count": 6,
   "id": "c16e3cb6",
   "metadata": {},
   "outputs": [
    {
     "data": {
      "text/plain": [
       "' 2)Python is an interpreted programming language, which supports object-oriented, structured, and functional programming.'"
      ]
     },
     "execution_count": 6,
     "metadata": {},
     "output_type": "execute_result"
    }
   ],
   "source": [
    "\"\"\" 2)Python is an interpreted programming language, which supports object-oriented, structured, and functional programming.\"\"\""
   ]
  },
  {
   "cell_type": "code",
   "execution_count": 8,
   "id": "d21bb6b5",
   "metadata": {},
   "outputs": [
    {
     "ename": "NameError",
     "evalue": "name 'Num' is not defined",
     "output_type": "error",
     "traceback": [
      "\u001b[1;31m---------------------------------------------------------------------------\u001b[0m",
      "\u001b[1;31mNameError\u001b[0m                                 Traceback (most recent call last)",
      "\u001b[1;32m~\\AppData\\Local\\Temp\\ipykernel_660\\2761125347.py\u001b[0m in \u001b[0;36m<module>\u001b[1;34m\u001b[0m\n\u001b[0;32m      2\u001b[0m num =7 and while printing we have given Num in the second case n is in upper case so it will give u an error . \"\"\" \n\u001b[0;32m      3\u001b[0m \u001b[0mnum\u001b[0m\u001b[1;33m=\u001b[0m\u001b[1;36m7\u001b[0m\u001b[1;33m\u001b[0m\u001b[1;33m\u001b[0m\u001b[0m\n\u001b[1;32m----> 4\u001b[1;33m \u001b[0mprint\u001b[0m\u001b[1;33m(\u001b[0m\u001b[0mNum\u001b[0m\u001b[1;33m)\u001b[0m\u001b[1;33m\u001b[0m\u001b[1;33m\u001b[0m\u001b[0m\n\u001b[0m",
      "\u001b[1;31mNameError\u001b[0m: name 'Num' is not defined"
     ]
    }
   ],
   "source": [
    "\"\"\" 3) yes it is case sensitive while dealing with identifiers. for example (given below ) we have declared an VARIABLE \n",
    "num =7 and while printing we have given Num in the case 2 , n is in upper case so it will give u an error THAT Num IS NOT \n",
    "DEFINED  . \"\"\" \n",
    "\n",
    "num=7\n",
    "print(Num)\n"
   ]
  },
  {
   "cell_type": "code",
   "execution_count": 12,
   "id": "ff73f539",
   "metadata": {},
   "outputs": [
    {
     "data": {
      "text/plain": [
       "' 4)  To save pthon  programs we need to save  files with file extension ‘.py’. \\n\\n5)  PYTHON IS BOTH INTERPRETED LANGUAGE AND COMPILED  . INTERNALLY IT USES A COMBINATION OF BYTECODE COMPILER AND \\nINTERPRETER. '"
      ]
     },
     "execution_count": 12,
     "metadata": {},
     "output_type": "execute_result"
    }
   ],
   "source": [
    "\"\"\" 4)  To save pthon  programs we need to save  files with file extension ‘.py’. \n",
    "\n",
    "5)  PYTHON IS BOTH INTERPRETED LANGUAGE AND COMPILED  . INTERNALLY IT USES A COMBINATION OF BYTECODE COMPILER AND \n",
    "INTERPRETER. \"\"\"\n"
   ]
  },
  {
   "cell_type": "code",
   "execution_count": 11,
   "id": "d4e824a9",
   "metadata": {},
   "outputs": [
    {
     "data": {
      "text/plain": [
       "' 5) In Python, to define a block of code we use indentation. Indentation refers to whitespaces at the beginning of the line.\\nBy default, Python uses four spaces for indentation. '"
      ]
     },
     "execution_count": 11,
     "metadata": {},
     "output_type": "execute_result"
    }
   ],
   "source": [
    "\"\"\" 6) In Python, to define a block of code we use indentation. Indentation refers to whitespaces at the beginning of the line.\n",
    "By default, Python uses four spaces for indentation. \"\"\""
   ]
  },
  {
   "cell_type": "code",
   "execution_count": 13,
   "id": "0acebf37",
   "metadata": {},
   "outputs": [
    {
     "name": "stdout",
     "output_type": "stream",
     "text": [
      "kanika\n"
     ]
    }
   ],
   "source": [
    "\"\"\" 7) '#' hash is used at the beginning of the line to write single line comment in python \"\"\"\n",
    "\n",
    "# for example i am printing my name \n",
    "\n",
    "print(\"kanika\")\n"
   ]
  },
  {
   "cell_type": "code",
   "execution_count": 16,
   "id": "9d1bfe5c",
   "metadata": {},
   "outputs": [
    {
     "name": "stdout",
     "output_type": "stream",
     "text": [
      "kanika\n",
      "6\n",
      "7\n"
     ]
    }
   ],
   "source": [
    "\"\"\" 8) The function \"sys.version \"  is used to find the version of python that we are currently working on. It also contains\n",
    "information on the build number and compiler used.\n",
    "\n",
    "9) lamba contruct  is used in python to create an user defined function . \n",
    "\n",
    "10)  pip is a package manager for python that  is also called Preferred Installer Program.\n",
    "\n",
    "11) The python interpreter has several functions that are always present for use. for example :-\n",
    "a)  The print()   function is a built-in function which prints a value directly to the system output.\n",
    "b)  The  len() function is used to return the length (the number of items) of an object.\n",
    "c)  sum() function is used to get the sum of numbers of an iterable, i.e., list.\n",
    "\"\"\"\n",
    "\n",
    "print(\"kanika\")\n",
    "\n",
    "k=\"kanika\"\n",
    "print(len(k))\n",
    "\n",
    "s = sum([1, 2,4 ])  \n",
    "print(s) "
   ]
  },
  {
   "cell_type": "code",
   "execution_count": null,
   "id": "709a8483",
   "metadata": {},
   "outputs": [],
   "source": [
    "\"\"\" 12)  An identifier can have a maximum length of 79 characters in Python.\n",
    "\n",
    "\n",
    "13) benefits of using python :-\n",
    "\n",
    "1 .  open source - open source means that the source code is freely available and anybody can modify and redistribute the \n",
    "modified version without infringing the copyright .\n",
    "\n",
    "2.  concise code :- there is no declaration of variables , parameters  , hence this makes code short and concise.\n",
    "3.  high level :- python is a high level programming language as it uses words based on human language to write code .\n",
    "\n",
    "4.  easy to learn :- python is probably easiest to learn and use . it is because it has relatively few keywords , familiar \n",
    "and simple structure and clearly defined syntax . this allows beginners to learn python quickly and easily .\n",
    "\n",
    "5. portable :- python is available in a wide variety of latforms such as linux , windows , etc .a python program created on \n",
    "MS- windows platform will remain unchanged when ported to linux . \n",
    "\n",
    "\n",
    "\n",
    "14 ) Memory in Python is managed by Python private heap space. All Python objects and data structures are located in a \n",
    "private heap. This private heap is taken care of by Python Interpreter itself, and a programmer doesn’t have access to this \n",
    "private heap.\n",
    "\n",
    "\n",
    "15) Install python from the following  link https://www.python.org/downloads/ on your system .\n",
    "After that ,  Look for the location where PYTHON has been installed on your PC using tge following command on your\n",
    "command prompt: cmd python. Then go to advanced system settings and add new variable and name it as PYTHON_NAME and paste \n",
    "the copied path.  Then look for the path variable, select it's value and select edit\n",
    "Add a semicolon towards the end of the value if it's not present and then type %PYTHON_HOME% . \n",
    "\n",
    "16) yes , indentation is important in python , so by default python uses 4 whitespace to mark indentation . \n",
    "\n",
    "\"\"\""
   ]
  }
 ],
 "metadata": {
  "kernelspec": {
   "display_name": "Python 3 (ipykernel)",
   "language": "python",
   "name": "python3"
  },
  "language_info": {
   "codemirror_mode": {
    "name": "ipython",
    "version": 3
   },
   "file_extension": ".py",
   "mimetype": "text/x-python",
   "name": "python",
   "nbconvert_exporter": "python",
   "pygments_lexer": "ipython3",
   "version": "3.9.13"
  }
 },
 "nbformat": 4,
 "nbformat_minor": 5
}
